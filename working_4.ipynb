{
 "cells": [
  {
   "cell_type": "code",
   "execution_count": 4,
   "id": "f37ce74f",
   "metadata": {},
   "outputs": [],
   "source": [
    "from sklearn.cluster import KMeans\n",
    "from sklearn.preprocessing import OneHotEncoder\n",
    "from sklearn.preprocessing import MultiLabelBinarizer\n",
    "import pickle\n",
    "from sklearn.cluster import KMeans\n",
    "from sklearn.preprocessing import StandardScaler\n",
    "from sklearn.decomposition import PCA\n",
    "from sklearn.preprocessing import OneHotEncoder, LabelEncoder, MultiLabelBinarizer\n",
    "\n",
    "\n"
   ]
  },
  {
   "cell_type": "markdown",
   "id": "ae493a05",
   "metadata": {},
   "source": [
    "# 1. Data Understanding and Cleaning\n"
   ]
  },
  {
   "cell_type": "code",
   "execution_count": 5,
   "id": "5b706d7a",
   "metadata": {},
   "outputs": [
    {
     "name": "stderr",
     "output_type": "stream",
     "text": [
      "<>:2: SyntaxWarning: invalid escape sequence '\\p'\n",
      "<>:2: SyntaxWarning: invalid escape sequence '\\p'\n",
      "C:\\Users\\dell\\AppData\\Local\\Temp\\ipykernel_21856\\1647844848.py:2: SyntaxWarning: invalid escape sequence '\\p'\n",
      "  data = pd.read_csv(\"D:\\project_4\\swiggy.csv\")\n"
     ]
    },
    {
     "data": {
      "text/html": [
       "<div>\n",
       "<style scoped>\n",
       "    .dataframe tbody tr th:only-of-type {\n",
       "        vertical-align: middle;\n",
       "    }\n",
       "\n",
       "    .dataframe tbody tr th {\n",
       "        vertical-align: top;\n",
       "    }\n",
       "\n",
       "    .dataframe thead th {\n",
       "        text-align: right;\n",
       "    }\n",
       "</style>\n",
       "<table border=\"1\" class=\"dataframe\">\n",
       "  <thead>\n",
       "    <tr style=\"text-align: right;\">\n",
       "      <th></th>\n",
       "      <th>id</th>\n",
       "      <th>name</th>\n",
       "      <th>city</th>\n",
       "      <th>rating</th>\n",
       "      <th>rating_count</th>\n",
       "      <th>cost</th>\n",
       "      <th>cuisine</th>\n",
       "      <th>lic_no</th>\n",
       "      <th>link</th>\n",
       "      <th>address</th>\n",
       "      <th>menu</th>\n",
       "    </tr>\n",
       "  </thead>\n",
       "  <tbody>\n",
       "    <tr>\n",
       "      <th>0</th>\n",
       "      <td>567335</td>\n",
       "      <td>AB FOODS POINT</td>\n",
       "      <td>Abohar</td>\n",
       "      <td>--</td>\n",
       "      <td>Too Few Ratings</td>\n",
       "      <td>₹ 200</td>\n",
       "      <td>Beverages,Pizzas</td>\n",
       "      <td>22122652000138</td>\n",
       "      <td>https://www.swiggy.com/restaurants/ab-foods-po...</td>\n",
       "      <td>AB FOODS POINT, NEAR RISHI NARANG DENTAL CLINI...</td>\n",
       "      <td>Menu/567335.json</td>\n",
       "    </tr>\n",
       "    <tr>\n",
       "      <th>1</th>\n",
       "      <td>531342</td>\n",
       "      <td>Janta Sweet House</td>\n",
       "      <td>Abohar</td>\n",
       "      <td>4.4</td>\n",
       "      <td>50+ ratings</td>\n",
       "      <td>₹ 200</td>\n",
       "      <td>Sweets,Bakery</td>\n",
       "      <td>12117201000112</td>\n",
       "      <td>https://www.swiggy.com/restaurants/janta-sweet...</td>\n",
       "      <td>Janta Sweet House, Bazar No.9, Circullar Road,...</td>\n",
       "      <td>Menu/531342.json</td>\n",
       "    </tr>\n",
       "    <tr>\n",
       "      <th>2</th>\n",
       "      <td>158203</td>\n",
       "      <td>theka coffee desi</td>\n",
       "      <td>Abohar</td>\n",
       "      <td>3.8</td>\n",
       "      <td>100+ ratings</td>\n",
       "      <td>₹ 100</td>\n",
       "      <td>Beverages</td>\n",
       "      <td>22121652000190</td>\n",
       "      <td>https://www.swiggy.com/restaurants/theka-coffe...</td>\n",
       "      <td>theka coffee desi, sahtiya sadan road city</td>\n",
       "      <td>Menu/158203.json</td>\n",
       "    </tr>\n",
       "    <tr>\n",
       "      <th>3</th>\n",
       "      <td>187912</td>\n",
       "      <td>Singh Hut</td>\n",
       "      <td>Abohar</td>\n",
       "      <td>3.7</td>\n",
       "      <td>20+ ratings</td>\n",
       "      <td>₹ 250</td>\n",
       "      <td>Fast Food,Indian</td>\n",
       "      <td>22119652000167</td>\n",
       "      <td>https://www.swiggy.com/restaurants/singh-hut-n...</td>\n",
       "      <td>Singh Hut, CIRCULAR ROAD NEAR NEHRU PARK ABOHAR</td>\n",
       "      <td>Menu/187912.json</td>\n",
       "    </tr>\n",
       "    <tr>\n",
       "      <th>4</th>\n",
       "      <td>543530</td>\n",
       "      <td>GRILL MASTERS</td>\n",
       "      <td>Abohar</td>\n",
       "      <td>--</td>\n",
       "      <td>Too Few Ratings</td>\n",
       "      <td>₹ 250</td>\n",
       "      <td>Italian-American,Fast Food</td>\n",
       "      <td>12122201000053</td>\n",
       "      <td>https://www.swiggy.com/restaurants/grill-maste...</td>\n",
       "      <td>GRILL MASTERS, ADA Heights, Abohar - Hanumanga...</td>\n",
       "      <td>Menu/543530.json</td>\n",
       "    </tr>\n",
       "  </tbody>\n",
       "</table>\n",
       "</div>"
      ],
      "text/plain": [
       "       id               name    city rating     rating_count   cost  \\\n",
       "0  567335     AB FOODS POINT  Abohar     --  Too Few Ratings  ₹ 200   \n",
       "1  531342  Janta Sweet House  Abohar    4.4      50+ ratings  ₹ 200   \n",
       "2  158203  theka coffee desi  Abohar    3.8     100+ ratings  ₹ 100   \n",
       "3  187912          Singh Hut  Abohar    3.7      20+ ratings  ₹ 250   \n",
       "4  543530      GRILL MASTERS  Abohar     --  Too Few Ratings  ₹ 250   \n",
       "\n",
       "                      cuisine          lic_no  \\\n",
       "0            Beverages,Pizzas  22122652000138   \n",
       "1               Sweets,Bakery  12117201000112   \n",
       "2                   Beverages  22121652000190   \n",
       "3            Fast Food,Indian  22119652000167   \n",
       "4  Italian-American,Fast Food  12122201000053   \n",
       "\n",
       "                                                link  \\\n",
       "0  https://www.swiggy.com/restaurants/ab-foods-po...   \n",
       "1  https://www.swiggy.com/restaurants/janta-sweet...   \n",
       "2  https://www.swiggy.com/restaurants/theka-coffe...   \n",
       "3  https://www.swiggy.com/restaurants/singh-hut-n...   \n",
       "4  https://www.swiggy.com/restaurants/grill-maste...   \n",
       "\n",
       "                                             address              menu  \n",
       "0  AB FOODS POINT, NEAR RISHI NARANG DENTAL CLINI...  Menu/567335.json  \n",
       "1  Janta Sweet House, Bazar No.9, Circullar Road,...  Menu/531342.json  \n",
       "2         theka coffee desi, sahtiya sadan road city  Menu/158203.json  \n",
       "3    Singh Hut, CIRCULAR ROAD NEAR NEHRU PARK ABOHAR  Menu/187912.json  \n",
       "4  GRILL MASTERS, ADA Heights, Abohar - Hanumanga...  Menu/543530.json  "
      ]
     },
     "execution_count": 5,
     "metadata": {},
     "output_type": "execute_result"
    }
   ],
   "source": [
    "import pandas as pd\n",
    "data = pd.read_csv(\"D:\\project_4\\swiggy.csv\")\n",
    "data.head()"
   ]
  },
  {
   "cell_type": "code",
   "execution_count": 6,
   "id": "5ce399f2",
   "metadata": {},
   "outputs": [
    {
     "data": {
      "text/plain": [
       "(148541, 11)"
      ]
     },
     "execution_count": 6,
     "metadata": {},
     "output_type": "execute_result"
    }
   ],
   "source": [
    "data.shape"
   ]
  },
  {
   "cell_type": "code",
   "execution_count": 7,
   "id": "a2f63063",
   "metadata": {},
   "outputs": [
    {
     "data": {
      "text/plain": [
       "Index(['id', 'name', 'city', 'rating', 'rating_count', 'cost', 'cuisine',\n",
       "       'lic_no', 'link', 'address', 'menu'],\n",
       "      dtype='object')"
      ]
     },
     "execution_count": 7,
     "metadata": {},
     "output_type": "execute_result"
    }
   ],
   "source": [
    "data.columns"
   ]
  },
  {
   "cell_type": "code",
   "execution_count": 8,
   "id": "2c93439b",
   "metadata": {},
   "outputs": [
    {
     "data": {
      "text/plain": [
       "id               int64\n",
       "name            object\n",
       "city            object\n",
       "rating          object\n",
       "rating_count    object\n",
       "cost            object\n",
       "cuisine         object\n",
       "lic_no          object\n",
       "link            object\n",
       "address         object\n",
       "menu            object\n",
       "dtype: object"
      ]
     },
     "execution_count": 8,
     "metadata": {},
     "output_type": "execute_result"
    }
   ],
   "source": [
    "data.dtypes"
   ]
  },
  {
   "cell_type": "code",
   "execution_count": 9,
   "id": "235b43b9",
   "metadata": {},
   "outputs": [
    {
     "data": {
      "text/plain": [
       "id                0\n",
       "name             86\n",
       "city              0\n",
       "rating           86\n",
       "rating_count     86\n",
       "cost            131\n",
       "cuisine          99\n",
       "lic_no          229\n",
       "link              0\n",
       "address          86\n",
       "menu              0\n",
       "dtype: int64"
      ]
     },
     "execution_count": 9,
     "metadata": {},
     "output_type": "execute_result"
    }
   ],
   "source": [
    "data.isnull().sum()"
   ]
  },
  {
   "cell_type": "code",
   "execution_count": 10,
   "id": "4b191071",
   "metadata": {},
   "outputs": [
    {
     "name": "stdout",
     "output_type": "stream",
     "text": [
      "Null Value Percentage (All Columns):\n",
      "lic_no          0.154166\n",
      "cost            0.088191\n",
      "cuisine         0.066648\n",
      "rating          0.057896\n",
      "address         0.057896\n",
      "name            0.057896\n",
      "rating_count    0.057896\n",
      "city            0.000000\n",
      "id              0.000000\n",
      "link            0.000000\n",
      "menu            0.000000\n",
      "dtype: float64\n"
     ]
    }
   ],
   "source": [
    "null_percent = data.isnull().mean() * 100\n",
    "\n",
    "\n",
    "print(\"Null Value Percentage (All Columns):\")\n",
    "print(null_percent.sort_values(ascending=False))"
   ]
  },
  {
   "cell_type": "markdown",
   "id": "87df6909",
   "metadata": {},
   "source": [
    "Though lic_no column has more null values, may be this lic_no column is  not useful for recommendations.\n",
    "\n",
    "dropping the column\n",
    "\n"
   ]
  },
  {
   "cell_type": "code",
   "execution_count": 11,
   "id": "3eab1a29",
   "metadata": {},
   "outputs": [
    {
     "data": {
      "text/html": [
       "<div>\n",
       "<style scoped>\n",
       "    .dataframe tbody tr th:only-of-type {\n",
       "        vertical-align: middle;\n",
       "    }\n",
       "\n",
       "    .dataframe tbody tr th {\n",
       "        vertical-align: top;\n",
       "    }\n",
       "\n",
       "    .dataframe thead th {\n",
       "        text-align: right;\n",
       "    }\n",
       "</style>\n",
       "<table border=\"1\" class=\"dataframe\">\n",
       "  <thead>\n",
       "    <tr style=\"text-align: right;\">\n",
       "      <th></th>\n",
       "      <th>id</th>\n",
       "      <th>name</th>\n",
       "      <th>city</th>\n",
       "      <th>rating</th>\n",
       "      <th>rating_count</th>\n",
       "      <th>cost</th>\n",
       "      <th>cuisine</th>\n",
       "      <th>lic_no</th>\n",
       "      <th>link</th>\n",
       "      <th>address</th>\n",
       "      <th>menu</th>\n",
       "    </tr>\n",
       "  </thead>\n",
       "  <tbody>\n",
       "    <tr>\n",
       "      <th>31044</th>\n",
       "      <td>397961</td>\n",
       "      <td>NaN</td>\n",
       "      <td>Greater Mohali,Chandigarh</td>\n",
       "      <td>NaN</td>\n",
       "      <td>NaN</td>\n",
       "      <td>NaN</td>\n",
       "      <td>NaN</td>\n",
       "      <td>NaN</td>\n",
       "      <td>https://www.swiggy.com/restaurants/5-tara-grea...</td>\n",
       "      <td>NaN</td>\n",
       "      <td>Menu/397961.json</td>\n",
       "    </tr>\n",
       "    <tr>\n",
       "      <th>32912</th>\n",
       "      <td>308071</td>\n",
       "      <td>NaN</td>\n",
       "      <td>West Chd,Chandigarh</td>\n",
       "      <td>NaN</td>\n",
       "      <td>NaN</td>\n",
       "      <td>NaN</td>\n",
       "      <td>NaN</td>\n",
       "      <td>NaN</td>\n",
       "      <td>https://www.swiggy.com/restaurants/food-under-...</td>\n",
       "      <td>NaN</td>\n",
       "      <td>Menu/308071.json</td>\n",
       "    </tr>\n",
       "    <tr>\n",
       "      <th>33046</th>\n",
       "      <td>308662</td>\n",
       "      <td>NaN</td>\n",
       "      <td>West Chd,Chandigarh</td>\n",
       "      <td>NaN</td>\n",
       "      <td>NaN</td>\n",
       "      <td>NaN</td>\n",
       "      <td>NaN</td>\n",
       "      <td>NaN</td>\n",
       "      <td>https://www.swiggy.com/restaurants/franks-frie...</td>\n",
       "      <td>NaN</td>\n",
       "      <td>Menu/308662.json</td>\n",
       "    </tr>\n",
       "    <tr>\n",
       "      <th>33488</th>\n",
       "      <td>170889</td>\n",
       "      <td>NaN</td>\n",
       "      <td>South Chd,Chandigarh</td>\n",
       "      <td>NaN</td>\n",
       "      <td>NaN</td>\n",
       "      <td>NaN</td>\n",
       "      <td>NaN</td>\n",
       "      <td>NaN</td>\n",
       "      <td>https://www.swiggy.com/restaurants/dhaba-7-pre...</td>\n",
       "      <td>NaN</td>\n",
       "      <td>Menu/170889.json</td>\n",
       "    </tr>\n",
       "    <tr>\n",
       "      <th>36492</th>\n",
       "      <td>390394</td>\n",
       "      <td>NaN</td>\n",
       "      <td>George Town,Chennai</td>\n",
       "      <td>NaN</td>\n",
       "      <td>NaN</td>\n",
       "      <td>NaN</td>\n",
       "      <td>NaN</td>\n",
       "      <td>NaN</td>\n",
       "      <td>https://www.swiggy.com/restaurants/frozen-cafe...</td>\n",
       "      <td>NaN</td>\n",
       "      <td>Menu/390394.json</td>\n",
       "    </tr>\n",
       "    <tr>\n",
       "      <th>...</th>\n",
       "      <td>...</td>\n",
       "      <td>...</td>\n",
       "      <td>...</td>\n",
       "      <td>...</td>\n",
       "      <td>...</td>\n",
       "      <td>...</td>\n",
       "      <td>...</td>\n",
       "      <td>...</td>\n",
       "      <td>...</td>\n",
       "      <td>...</td>\n",
       "      <td>...</td>\n",
       "    </tr>\n",
       "    <tr>\n",
       "      <th>137122</th>\n",
       "      <td>256827</td>\n",
       "      <td>NaN</td>\n",
       "      <td>Satara</td>\n",
       "      <td>NaN</td>\n",
       "      <td>NaN</td>\n",
       "      <td>NaN</td>\n",
       "      <td>NaN</td>\n",
       "      <td>NaN</td>\n",
       "      <td>https://www.swiggy.com/restaurants/rajdhani-pa...</td>\n",
       "      <td>NaN</td>\n",
       "      <td>Menu/256827.json</td>\n",
       "    </tr>\n",
       "    <tr>\n",
       "      <th>137546</th>\n",
       "      <td>567595</td>\n",
       "      <td>NaN</td>\n",
       "      <td>Shillong</td>\n",
       "      <td>NaN</td>\n",
       "      <td>NaN</td>\n",
       "      <td>NaN</td>\n",
       "      <td>NaN</td>\n",
       "      <td>NaN</td>\n",
       "      <td>https://www.swiggy.com/restaurants/the-blue-ri...</td>\n",
       "      <td>NaN</td>\n",
       "      <td>Menu/567595.json</td>\n",
       "    </tr>\n",
       "    <tr>\n",
       "      <th>137614</th>\n",
       "      <td>116615</td>\n",
       "      <td>NaN</td>\n",
       "      <td>Shivamogga</td>\n",
       "      <td>NaN</td>\n",
       "      <td>NaN</td>\n",
       "      <td>NaN</td>\n",
       "      <td>NaN</td>\n",
       "      <td>NaN</td>\n",
       "      <td>https://www.swiggy.com/restaurants/bakers-bowl...</td>\n",
       "      <td>NaN</td>\n",
       "      <td>Menu/116615.json</td>\n",
       "    </tr>\n",
       "    <tr>\n",
       "      <th>138380</th>\n",
       "      <td>401760</td>\n",
       "      <td>NaN</td>\n",
       "      <td>Sirsa</td>\n",
       "      <td>NaN</td>\n",
       "      <td>NaN</td>\n",
       "      <td>NaN</td>\n",
       "      <td>NaN</td>\n",
       "      <td>NaN</td>\n",
       "      <td>https://www.swiggy.com/restaurants/murga-dlf-p...</td>\n",
       "      <td>NaN</td>\n",
       "      <td>Menu/401760.json</td>\n",
       "    </tr>\n",
       "    <tr>\n",
       "      <th>141568</th>\n",
       "      <td>463812</td>\n",
       "      <td>NaN</td>\n",
       "      <td>Thiruvananthapuram</td>\n",
       "      <td>NaN</td>\n",
       "      <td>NaN</td>\n",
       "      <td>NaN</td>\n",
       "      <td>NaN</td>\n",
       "      <td>NaN</td>\n",
       "      <td>https://www.swiggy.com/restaurants/punjabi-dha...</td>\n",
       "      <td>NaN</td>\n",
       "      <td>Menu/463812.json</td>\n",
       "    </tr>\n",
       "  </tbody>\n",
       "</table>\n",
       "<p>86 rows × 11 columns</p>\n",
       "</div>"
      ],
      "text/plain": [
       "            id name                       city rating rating_count cost  \\\n",
       "31044   397961  NaN  Greater Mohali,Chandigarh    NaN          NaN  NaN   \n",
       "32912   308071  NaN        West Chd,Chandigarh    NaN          NaN  NaN   \n",
       "33046   308662  NaN        West Chd,Chandigarh    NaN          NaN  NaN   \n",
       "33488   170889  NaN       South Chd,Chandigarh    NaN          NaN  NaN   \n",
       "36492   390394  NaN        George Town,Chennai    NaN          NaN  NaN   \n",
       "...        ...  ...                        ...    ...          ...  ...   \n",
       "137122  256827  NaN                     Satara    NaN          NaN  NaN   \n",
       "137546  567595  NaN                   Shillong    NaN          NaN  NaN   \n",
       "137614  116615  NaN                 Shivamogga    NaN          NaN  NaN   \n",
       "138380  401760  NaN                      Sirsa    NaN          NaN  NaN   \n",
       "141568  463812  NaN         Thiruvananthapuram    NaN          NaN  NaN   \n",
       "\n",
       "       cuisine lic_no                                               link  \\\n",
       "31044      NaN    NaN  https://www.swiggy.com/restaurants/5-tara-grea...   \n",
       "32912      NaN    NaN  https://www.swiggy.com/restaurants/food-under-...   \n",
       "33046      NaN    NaN  https://www.swiggy.com/restaurants/franks-frie...   \n",
       "33488      NaN    NaN  https://www.swiggy.com/restaurants/dhaba-7-pre...   \n",
       "36492      NaN    NaN  https://www.swiggy.com/restaurants/frozen-cafe...   \n",
       "...        ...    ...                                                ...   \n",
       "137122     NaN    NaN  https://www.swiggy.com/restaurants/rajdhani-pa...   \n",
       "137546     NaN    NaN  https://www.swiggy.com/restaurants/the-blue-ri...   \n",
       "137614     NaN    NaN  https://www.swiggy.com/restaurants/bakers-bowl...   \n",
       "138380     NaN    NaN  https://www.swiggy.com/restaurants/murga-dlf-p...   \n",
       "141568     NaN    NaN  https://www.swiggy.com/restaurants/punjabi-dha...   \n",
       "\n",
       "       address              menu  \n",
       "31044      NaN  Menu/397961.json  \n",
       "32912      NaN  Menu/308071.json  \n",
       "33046      NaN  Menu/308662.json  \n",
       "33488      NaN  Menu/170889.json  \n",
       "36492      NaN  Menu/390394.json  \n",
       "...        ...               ...  \n",
       "137122     NaN  Menu/256827.json  \n",
       "137546     NaN  Menu/567595.json  \n",
       "137614     NaN  Menu/116615.json  \n",
       "138380     NaN  Menu/401760.json  \n",
       "141568     NaN  Menu/463812.json  \n",
       "\n",
       "[86 rows x 11 columns]"
      ]
     },
     "execution_count": 11,
     "metadata": {},
     "output_type": "execute_result"
    }
   ],
   "source": [
    "data[data['name'].isnull()]\n"
   ]
  },
  {
   "cell_type": "code",
   "execution_count": 12,
   "id": "cc63527e",
   "metadata": {},
   "outputs": [
    {
     "data": {
      "text/plain": [
       "np.int64(0)"
      ]
     },
     "execution_count": 12,
     "metadata": {},
     "output_type": "execute_result"
    }
   ],
   "source": [
    "data.duplicated().sum()"
   ]
  },
  {
   "cell_type": "markdown",
   "id": "0c323fd1",
   "metadata": {},
   "source": [
    "Dropping the lic_no column"
   ]
  },
  {
   "cell_type": "code",
   "execution_count": 13,
   "id": "03c72318",
   "metadata": {},
   "outputs": [],
   "source": [
    "data.drop(columns=['lic_no'], inplace=True)\n"
   ]
  },
  {
   "cell_type": "code",
   "execution_count": 14,
   "id": "a33be9a8",
   "metadata": {},
   "outputs": [
    {
     "data": {
      "text/plain": [
       "array(['--', '4.4', '3.8', '3.7', '3.6', '4.0', '4.2', '4.7', '4.1',\n",
       "       '3.5', '3.1', '3.4', '3.3', '4.8', '3.9', '2.7', '4.3', '2.9',\n",
       "       '4.5', '2.5', '3.2', '2.4', '4.6', '3.0', '2.8', '2.3', '5.0',\n",
       "       '2.6', '2.2', '1.4', '1.9', '4.9', '2.1', '1.3', '2.0', '1.8',\n",
       "       '1.6', '1.1', '1.5', nan, '1.0', '1.2', '1.7'], dtype=object)"
      ]
     },
     "execution_count": 14,
     "metadata": {},
     "output_type": "execute_result"
    }
   ],
   "source": [
    "# To check the unquie value for rating cloumn\n",
    "data[\"rating\"].unique()"
   ]
  },
  {
   "cell_type": "markdown",
   "id": "89320869",
   "metadata": {},
   "source": [
    " **FOUND SOME NAN VALUES AND '--' IN THE COLUMN**"
   ]
  },
  {
   "cell_type": "code",
   "execution_count": 15,
   "id": "116b7d9a",
   "metadata": {},
   "outputs": [
    {
     "data": {
      "text/plain": [
       "array(['Too Few Ratings', '50+ ratings', '100+ ratings', '20+ ratings',\n",
       "       '500+ ratings', '1K+ ratings', '5K+ ratings', nan, '10K+ ratings'],\n",
       "      dtype=object)"
      ]
     },
     "execution_count": 15,
     "metadata": {},
     "output_type": "execute_result"
    }
   ],
   "source": [
    "# To check the unqiue values for rating_count cloumn\n",
    "data[\"rating_count\"].unique()"
   ]
  },
  {
   "cell_type": "code",
   "execution_count": 16,
   "id": "2bb63db3",
   "metadata": {},
   "outputs": [
    {
     "data": {
      "text/plain": [
       "rating_count\n",
       "Too Few Ratings    87014\n",
       "20+ ratings        21636\n",
       "100+ ratings       20548\n",
       "50+ ratings        12009\n",
       "500+ ratings        4396\n",
       "1K+ ratings         2739\n",
       "5K+ ratings           98\n",
       "10K+ ratings          15\n",
       "Name: count, dtype: int64"
      ]
     },
     "execution_count": 16,
     "metadata": {},
     "output_type": "execute_result"
    }
   ],
   "source": [
    "data[\"rating_count\"].value_counts()"
   ]
  },
  {
   "cell_type": "markdown",
   "id": "2f9b60a9",
   "metadata": {},
   "source": [
    "**WE HAVE TO REMOVE + k SYMBOL AND CONVERT IN NORMAL FORMAT**"
   ]
  },
  {
   "cell_type": "code",
   "execution_count": 17,
   "id": "763015ac",
   "metadata": {},
   "outputs": [
    {
     "data": {
      "text/plain": [
       "array(['₹ 200', '₹ 100', '₹ 250', '₹ 150', '₹ 300', '₹ 700', '₹ 650',\n",
       "       '₹ 400', '₹ 350', '₹ 60', '₹ 110', '₹ 399', '₹ 249', '₹ 500',\n",
       "       '₹ 99', '₹ 120', '₹ 499', '₹ 299', '₹ 199', '₹ 50', '₹ 180',\n",
       "       '₹ 349', '₹ 1000', '₹ 599', '₹ 600', '₹ 800', '₹ 450', '₹ 149',\n",
       "       '₹ 290', '₹ 175', '₹ 125', '₹ 8', '₹ 375', '₹ 275', '₹ 425',\n",
       "       '₹ 225', '₹ 325', '₹ 75', '₹ 160', '₹ 550', '₹ 220', '₹ 20',\n",
       "       '₹ 59', '₹ 1200', '₹ 210', '₹ 30', '₹ 310', '₹ 70', '₹ 170',\n",
       "       '₹ 449', '₹ 280', '₹ 320', '₹ 1300', '₹ 850', '₹ 900', '₹ 40',\n",
       "       '₹ 1500', '₹ 140', '₹ 1100', '₹ 410', '₹ 80', '₹ 10', '₹ 1245',\n",
       "       '₹ 510', '₹ 90', '₹ 260', '₹ 1800', '₹ 5', '₹ 240', '₹ 460',\n",
       "       '₹ 1900', '₹ 352', '₹ 298', '₹ 2', '₹ 252', '₹ 330', '₹ 750',\n",
       "       '₹ 130', '₹ 2000', '₹ 198', '₹ 230', '₹ 999', '₹ 3999', nan,\n",
       "       '₹ 235', '₹ 1600', '₹ 55', '₹ 179', '₹ 129', '₹ 360', '₹ 85',\n",
       "       '₹ 248', '₹ 270', '₹ 25', '₹ 159', '₹ 370', '₹ 1050', '₹ 49',\n",
       "       '₹ 699', '₹ 340', '₹ 190', '₹ 710', '₹ 1250', '₹ 178', '₹ 148',\n",
       "       '₹ 380', '₹ 257', '₹ 171', '₹ 193', '₹ 189', '₹ 197', '₹ 336',\n",
       "       '₹ 251', '₹ 245', '₹ 219', '₹ 188', '₹ 137', '₹ 164', '₹ 126',\n",
       "       '₹ 268', '₹ 421', '₹ 540', '₹ 239', '₹ 14', '₹ 259', '₹ 1400',\n",
       "       '₹ 497', '₹ 176', '₹ 255', '₹ 990', '₹ 158', '₹ 438', '₹ 354',\n",
       "       '₹ 483', '₹ 69', '₹ 398', '₹ 39', '₹ 560', '₹ 278', '₹ 3000',\n",
       "       '₹ 749', '₹ 2400', '₹ 950', '₹ 480', '₹ 258', '₹ 45', '₹ 359',\n",
       "       '₹ 119', '₹ 224', '₹ 385', '₹ 590', '₹ 703', '₹ 347', '₹ 363',\n",
       "       '₹ 790', '₹ 798', '₹ 15', '₹ 89', '₹ 355', '₹ 105', '₹ 719',\n",
       "       '₹ 1099', '₹ 289', '₹ 440', '₹ 420', '₹ 559', '₹ 215', '₹ 390',\n",
       "       '₹ 1', '₹ 138', '₹ 760', '₹ 595', '₹ 218', '₹ 65', '₹ 532',\n",
       "       '₹ 288', '₹ 292', '₹ 214', '₹ 267', '₹ 284', '₹ 283', '₹ 746',\n",
       "       '₹ 269', '₹ 287', '₹ 254', '₹ 502', '₹ 2022', '₹ 2500', '₹ 899',\n",
       "       '₹ 163', '₹ 182', '₹ 203', '₹ 296', '₹ 597', '₹ 327', '₹ 293',\n",
       "       '₹ 169', '₹ 799', '₹ 295', '₹ 263', '₹ 238', '₹ 378', '₹ 8000',\n",
       "       '₹ 28', '₹ 498', '₹ 490', '₹ 459', '₹ 3500', '₹ 209', '₹ 183',\n",
       "       '₹ 12', '₹ 79', '₹ 409', '₹ 196', '₹ 680', '₹ 888', '₹ 520',\n",
       "       '₹ 279', '₹ 147', '₹ 475', '₹ 348', '₹ 1700', '₹ 630', '₹ 152',\n",
       "       '₹ 580', '₹ 155', '₹ 1038', '₹ 384', '₹ 201', '₹ 111', '₹ 4',\n",
       "       '₹ 195', '₹ 313', '₹ 229', '₹ 265', '₹ 118', '₹ 357', '₹ 294',\n",
       "       '₹ 328', '₹ 640', '₹ 297', '₹ 430', '₹ 849', '₹ 649', '₹ 135',\n",
       "       '₹ 675', '₹ 115', '₹ 132', '₹ 151', '₹ 396', '₹ 95', '₹ 102',\n",
       "       '₹ 38', '₹ 3', '₹ 124', '₹ 106', '₹ 104', '₹ 32', '₹ 379', '₹ 98',\n",
       "       '₹ 526', '₹ 820', '₹ 620', '₹ 108', '₹ 2509', '₹ 285', '₹ 6000',\n",
       "       '₹ 5023', '₹ 204', '₹ 840', '₹ 839', '₹ 109', '₹ 308', '₹ 1650',\n",
       "       '₹ 305', '₹ 84', '₹ 574', '₹ 748', '₹ 318', '₹ 2100', '₹ 1290',\n",
       "       '₹ 57', '₹ 145', '₹ 185', '₹ 35', '₹ 458', '₹ 549', '₹ 660',\n",
       "       '₹ 1045', '₹ 24', '₹ 880', '₹ 1999', '₹ 300350', '₹ 338', '₹ 493',\n",
       "       '₹ 2200', '₹ 495', '₹ 444', '₹ 48', '₹ 780', '₹ 389', '₹ 3200',\n",
       "       '₹ 416', '₹ 3360', '₹ 530', '₹ 366', '₹ 96', '₹ 221', '₹ 564',\n",
       "       '₹ 920', '₹ 11', '₹ 395', '₹ 478', '₹ 208', '₹ 222', '₹ 144',\n",
       "       '₹ 236', '₹ 276', '₹ 333', '₹ 139', '₹ 29', '₹ 315', '₹ 3100',\n",
       "       '₹ 2700', '₹ 271', '₹ 351', '₹ 311', '₹ 286', '₹ 301', '₹ 256',\n",
       "       '₹ 507', '₹ 87', '₹ 211', '₹ 22', '₹ 26', '₹ 5000', '₹ 2800',\n",
       "       '₹ 598', '₹ 1001', '₹ 13', '₹ 156', '₹ 53', '₹ 165', '₹ 131',\n",
       "       '₹ 666', '₹ 1150', '₹ 1020', '₹ 277', '₹ 1199', '₹ 177', '₹ 518',\n",
       "       '₹ 54', '₹ 121', '₹ 670', '₹ 345', '₹ 94', '₹ 501', '₹ 216',\n",
       "       '₹ 625', '₹ 88', '₹ 101', '₹ 312', '₹ 448', '₹ 64'], dtype=object)"
      ]
     },
     "execution_count": 17,
     "metadata": {},
     "output_type": "execute_result"
    }
   ],
   "source": [
    "# To check the values for cost cloumns\n",
    "data[\"cost\"].unique()"
   ]
  },
  {
   "cell_type": "code",
   "execution_count": 18,
   "id": "c886c65d",
   "metadata": {},
   "outputs": [
    {
     "data": {
      "text/plain": [
       "cost\n",
       "₹ 200    38635\n",
       "₹ 300    29701\n",
       "₹ 250    19745\n",
       "₹ 150    12096\n",
       "₹ 400    11711\n",
       "         ...  \n",
       "₹ 216        1\n",
       "₹ 88         1\n",
       "₹ 101        1\n",
       "₹ 312        1\n",
       "₹ 64         1\n",
       "Name: count, Length: 363, dtype: int64"
      ]
     },
     "execution_count": 18,
     "metadata": {},
     "output_type": "execute_result"
    }
   ],
   "source": [
    "data[\"cost\"].value_counts()"
   ]
  },
  {
   "cell_type": "markdown",
   "id": "f117e3d4",
   "metadata": {},
   "source": [
    "**WE HAVE TO REMOVE RUPEES SYMBOL**"
   ]
  },
  {
   "cell_type": "code",
   "execution_count": 19,
   "id": "f2d138e5",
   "metadata": {},
   "outputs": [],
   "source": [
    "#Fom rating cloumn replace \"--\" to nan for purpouse of converting to Numeric\n",
    "data[\"rating\"]= data[\"rating\"].replace('--','4.0')\n",
    "\n",
    "#Fom rating_count cloumn replace 'Too Few Ratings' to '25' for purpouse of converting to Numeric\n",
    "data[\"rating_count\"] = data[\"rating_count\"].replace('Too Few Ratings','25')\n",
    "\n",
    "# from rating_count cloumn we can need only the number so we can extract the number based on index basics\n",
    "data[\"rating_count\"] = data[\"rating_count\"].astype(str).str[:3]\n",
    "\n",
    "#After getting the extracting numnber in rating_count cloumn we have \"+\" symbol so we can replace with \"\"(space)\n",
    "data[\"rating_count\"] = data[\"rating_count\"].str.replace(\"+\",\"\")\n",
    "\n",
    "# Replace \"k\" to \"000\" in the rating_count cloumn\n",
    "data[\"rating_count\"] = data[\"rating_count\"].str.replace(\"K\",\"000\")\n",
    "\n",
    "#Replace \"₹\" to \"\"(space) in the cost cloumn\n",
    "data[\"cost\"] = data[\"cost\"].str.replace(\"₹\", \"\")\n",
    "\n",
    "#To convert the rating cloumn object into float\n",
    "data[\"rating\"] = data[\"rating\"].astype(float)\n",
    "\n",
    "#To convert the rating_count cloumn object into float\n",
    "data[\"rating_count\"] = data[\"rating_count\"].astype(float)\n",
    "\n",
    "#To convert the cost cloumn object into float\n",
    "data[\"cost\"] = data[\"cost\"].astype(float)"
   ]
  },
  {
   "cell_type": "markdown",
   "id": "d75ea8ec",
   "metadata": {},
   "source": [
    "After converting the 3 cloumns into numerical We can check null values"
   ]
  },
  {
   "cell_type": "code",
   "execution_count": 20,
   "id": "8a027dd5",
   "metadata": {},
   "outputs": [
    {
     "name": "stdout",
     "output_type": "stream",
     "text": [
      "              Null Count  Null Percentage\n",
      "id                     0         0.000000\n",
      "name                  86         0.057896\n",
      "city                   0         0.000000\n",
      "rating                86         0.057896\n",
      "rating_count          86         0.057896\n",
      "cost                 131         0.088191\n",
      "cuisine               99         0.066648\n",
      "link                   0         0.000000\n",
      "address               86         0.057896\n",
      "menu                   0         0.000000\n"
     ]
    }
   ],
   "source": [
    "# Calculate null values count\n",
    "null_counts = data.isnull().sum()\n",
    "\n",
    "# Calculate percentage of null values\n",
    "null_percentage = (null_counts / len(data)) *100\n",
    "\n",
    "# Combine both into a DataFrame\n",
    "null_info = pd.DataFrame({'Null Count': null_counts, 'Null Percentage': null_percentage})\n",
    "\n",
    "print(null_info)"
   ]
  },
  {
   "cell_type": "code",
   "execution_count": 21,
   "id": "9418aac5",
   "metadata": {},
   "outputs": [
    {
     "data": {
      "text/html": [
       "<div>\n",
       "<style scoped>\n",
       "    .dataframe tbody tr th:only-of-type {\n",
       "        vertical-align: middle;\n",
       "    }\n",
       "\n",
       "    .dataframe tbody tr th {\n",
       "        vertical-align: top;\n",
       "    }\n",
       "\n",
       "    .dataframe thead th {\n",
       "        text-align: right;\n",
       "    }\n",
       "</style>\n",
       "<table border=\"1\" class=\"dataframe\">\n",
       "  <thead>\n",
       "    <tr style=\"text-align: right;\">\n",
       "      <th></th>\n",
       "      <th>id</th>\n",
       "      <th>name</th>\n",
       "      <th>city</th>\n",
       "      <th>rating</th>\n",
       "      <th>rating_count</th>\n",
       "      <th>cost</th>\n",
       "      <th>cuisine</th>\n",
       "      <th>link</th>\n",
       "      <th>address</th>\n",
       "      <th>menu</th>\n",
       "    </tr>\n",
       "  </thead>\n",
       "  <tbody>\n",
       "    <tr>\n",
       "      <th>31044</th>\n",
       "      <td>397961</td>\n",
       "      <td>NaN</td>\n",
       "      <td>Greater Mohali,Chandigarh</td>\n",
       "      <td>NaN</td>\n",
       "      <td>NaN</td>\n",
       "      <td>NaN</td>\n",
       "      <td>NaN</td>\n",
       "      <td>https://www.swiggy.com/restaurants/5-tara-grea...</td>\n",
       "      <td>NaN</td>\n",
       "      <td>Menu/397961.json</td>\n",
       "    </tr>\n",
       "    <tr>\n",
       "      <th>32912</th>\n",
       "      <td>308071</td>\n",
       "      <td>NaN</td>\n",
       "      <td>West Chd,Chandigarh</td>\n",
       "      <td>NaN</td>\n",
       "      <td>NaN</td>\n",
       "      <td>NaN</td>\n",
       "      <td>NaN</td>\n",
       "      <td>https://www.swiggy.com/restaurants/food-under-...</td>\n",
       "      <td>NaN</td>\n",
       "      <td>Menu/308071.json</td>\n",
       "    </tr>\n",
       "    <tr>\n",
       "      <th>33046</th>\n",
       "      <td>308662</td>\n",
       "      <td>NaN</td>\n",
       "      <td>West Chd,Chandigarh</td>\n",
       "      <td>NaN</td>\n",
       "      <td>NaN</td>\n",
       "      <td>NaN</td>\n",
       "      <td>NaN</td>\n",
       "      <td>https://www.swiggy.com/restaurants/franks-frie...</td>\n",
       "      <td>NaN</td>\n",
       "      <td>Menu/308662.json</td>\n",
       "    </tr>\n",
       "    <tr>\n",
       "      <th>33488</th>\n",
       "      <td>170889</td>\n",
       "      <td>NaN</td>\n",
       "      <td>South Chd,Chandigarh</td>\n",
       "      <td>NaN</td>\n",
       "      <td>NaN</td>\n",
       "      <td>NaN</td>\n",
       "      <td>NaN</td>\n",
       "      <td>https://www.swiggy.com/restaurants/dhaba-7-pre...</td>\n",
       "      <td>NaN</td>\n",
       "      <td>Menu/170889.json</td>\n",
       "    </tr>\n",
       "    <tr>\n",
       "      <th>36492</th>\n",
       "      <td>390394</td>\n",
       "      <td>NaN</td>\n",
       "      <td>George Town,Chennai</td>\n",
       "      <td>NaN</td>\n",
       "      <td>NaN</td>\n",
       "      <td>NaN</td>\n",
       "      <td>NaN</td>\n",
       "      <td>https://www.swiggy.com/restaurants/frozen-cafe...</td>\n",
       "      <td>NaN</td>\n",
       "      <td>Menu/390394.json</td>\n",
       "    </tr>\n",
       "    <tr>\n",
       "      <th>...</th>\n",
       "      <td>...</td>\n",
       "      <td>...</td>\n",
       "      <td>...</td>\n",
       "      <td>...</td>\n",
       "      <td>...</td>\n",
       "      <td>...</td>\n",
       "      <td>...</td>\n",
       "      <td>...</td>\n",
       "      <td>...</td>\n",
       "      <td>...</td>\n",
       "    </tr>\n",
       "    <tr>\n",
       "      <th>137122</th>\n",
       "      <td>256827</td>\n",
       "      <td>NaN</td>\n",
       "      <td>Satara</td>\n",
       "      <td>NaN</td>\n",
       "      <td>NaN</td>\n",
       "      <td>NaN</td>\n",
       "      <td>NaN</td>\n",
       "      <td>https://www.swiggy.com/restaurants/rajdhani-pa...</td>\n",
       "      <td>NaN</td>\n",
       "      <td>Menu/256827.json</td>\n",
       "    </tr>\n",
       "    <tr>\n",
       "      <th>137546</th>\n",
       "      <td>567595</td>\n",
       "      <td>NaN</td>\n",
       "      <td>Shillong</td>\n",
       "      <td>NaN</td>\n",
       "      <td>NaN</td>\n",
       "      <td>NaN</td>\n",
       "      <td>NaN</td>\n",
       "      <td>https://www.swiggy.com/restaurants/the-blue-ri...</td>\n",
       "      <td>NaN</td>\n",
       "      <td>Menu/567595.json</td>\n",
       "    </tr>\n",
       "    <tr>\n",
       "      <th>137614</th>\n",
       "      <td>116615</td>\n",
       "      <td>NaN</td>\n",
       "      <td>Shivamogga</td>\n",
       "      <td>NaN</td>\n",
       "      <td>NaN</td>\n",
       "      <td>NaN</td>\n",
       "      <td>NaN</td>\n",
       "      <td>https://www.swiggy.com/restaurants/bakers-bowl...</td>\n",
       "      <td>NaN</td>\n",
       "      <td>Menu/116615.json</td>\n",
       "    </tr>\n",
       "    <tr>\n",
       "      <th>138380</th>\n",
       "      <td>401760</td>\n",
       "      <td>NaN</td>\n",
       "      <td>Sirsa</td>\n",
       "      <td>NaN</td>\n",
       "      <td>NaN</td>\n",
       "      <td>NaN</td>\n",
       "      <td>NaN</td>\n",
       "      <td>https://www.swiggy.com/restaurants/murga-dlf-p...</td>\n",
       "      <td>NaN</td>\n",
       "      <td>Menu/401760.json</td>\n",
       "    </tr>\n",
       "    <tr>\n",
       "      <th>141568</th>\n",
       "      <td>463812</td>\n",
       "      <td>NaN</td>\n",
       "      <td>Thiruvananthapuram</td>\n",
       "      <td>NaN</td>\n",
       "      <td>NaN</td>\n",
       "      <td>NaN</td>\n",
       "      <td>NaN</td>\n",
       "      <td>https://www.swiggy.com/restaurants/punjabi-dha...</td>\n",
       "      <td>NaN</td>\n",
       "      <td>Menu/463812.json</td>\n",
       "    </tr>\n",
       "  </tbody>\n",
       "</table>\n",
       "<p>86 rows × 10 columns</p>\n",
       "</div>"
      ],
      "text/plain": [
       "            id name                       city  rating  rating_count  cost  \\\n",
       "31044   397961  NaN  Greater Mohali,Chandigarh     NaN           NaN   NaN   \n",
       "32912   308071  NaN        West Chd,Chandigarh     NaN           NaN   NaN   \n",
       "33046   308662  NaN        West Chd,Chandigarh     NaN           NaN   NaN   \n",
       "33488   170889  NaN       South Chd,Chandigarh     NaN           NaN   NaN   \n",
       "36492   390394  NaN        George Town,Chennai     NaN           NaN   NaN   \n",
       "...        ...  ...                        ...     ...           ...   ...   \n",
       "137122  256827  NaN                     Satara     NaN           NaN   NaN   \n",
       "137546  567595  NaN                   Shillong     NaN           NaN   NaN   \n",
       "137614  116615  NaN                 Shivamogga     NaN           NaN   NaN   \n",
       "138380  401760  NaN                      Sirsa     NaN           NaN   NaN   \n",
       "141568  463812  NaN         Thiruvananthapuram     NaN           NaN   NaN   \n",
       "\n",
       "       cuisine                                               link address  \\\n",
       "31044      NaN  https://www.swiggy.com/restaurants/5-tara-grea...     NaN   \n",
       "32912      NaN  https://www.swiggy.com/restaurants/food-under-...     NaN   \n",
       "33046      NaN  https://www.swiggy.com/restaurants/franks-frie...     NaN   \n",
       "33488      NaN  https://www.swiggy.com/restaurants/dhaba-7-pre...     NaN   \n",
       "36492      NaN  https://www.swiggy.com/restaurants/frozen-cafe...     NaN   \n",
       "...        ...                                                ...     ...   \n",
       "137122     NaN  https://www.swiggy.com/restaurants/rajdhani-pa...     NaN   \n",
       "137546     NaN  https://www.swiggy.com/restaurants/the-blue-ri...     NaN   \n",
       "137614     NaN  https://www.swiggy.com/restaurants/bakers-bowl...     NaN   \n",
       "138380     NaN  https://www.swiggy.com/restaurants/murga-dlf-p...     NaN   \n",
       "141568     NaN  https://www.swiggy.com/restaurants/punjabi-dha...     NaN   \n",
       "\n",
       "                    menu  \n",
       "31044   Menu/397961.json  \n",
       "32912   Menu/308071.json  \n",
       "33046   Menu/308662.json  \n",
       "33488   Menu/170889.json  \n",
       "36492   Menu/390394.json  \n",
       "...                  ...  \n",
       "137122  Menu/256827.json  \n",
       "137546  Menu/567595.json  \n",
       "137614  Menu/116615.json  \n",
       "138380  Menu/401760.json  \n",
       "141568  Menu/463812.json  \n",
       "\n",
       "[86 rows x 10 columns]"
      ]
     },
     "execution_count": 21,
     "metadata": {},
     "output_type": "execute_result"
    }
   ],
   "source": [
    "# To check what are null values in rating cloumn\n",
    "data[data[\"rating\"].isnull()]"
   ]
  },
  {
   "cell_type": "code",
   "execution_count": 22,
   "id": "b07ac5b5",
   "metadata": {},
   "outputs": [
    {
     "data": {
      "text/html": [
       "<div>\n",
       "<style scoped>\n",
       "    .dataframe tbody tr th:only-of-type {\n",
       "        vertical-align: middle;\n",
       "    }\n",
       "\n",
       "    .dataframe tbody tr th {\n",
       "        vertical-align: top;\n",
       "    }\n",
       "\n",
       "    .dataframe thead th {\n",
       "        text-align: right;\n",
       "    }\n",
       "</style>\n",
       "<table border=\"1\" class=\"dataframe\">\n",
       "  <thead>\n",
       "    <tr style=\"text-align: right;\">\n",
       "      <th></th>\n",
       "      <th>id</th>\n",
       "      <th>name</th>\n",
       "      <th>city</th>\n",
       "      <th>rating</th>\n",
       "      <th>rating_count</th>\n",
       "      <th>cost</th>\n",
       "      <th>cuisine</th>\n",
       "      <th>link</th>\n",
       "      <th>address</th>\n",
       "      <th>menu</th>\n",
       "    </tr>\n",
       "  </thead>\n",
       "  <tbody>\n",
       "    <tr>\n",
       "      <th>31044</th>\n",
       "      <td>397961</td>\n",
       "      <td>NaN</td>\n",
       "      <td>Greater Mohali,Chandigarh</td>\n",
       "      <td>NaN</td>\n",
       "      <td>NaN</td>\n",
       "      <td>NaN</td>\n",
       "      <td>NaN</td>\n",
       "      <td>https://www.swiggy.com/restaurants/5-tara-grea...</td>\n",
       "      <td>NaN</td>\n",
       "      <td>Menu/397961.json</td>\n",
       "    </tr>\n",
       "    <tr>\n",
       "      <th>32912</th>\n",
       "      <td>308071</td>\n",
       "      <td>NaN</td>\n",
       "      <td>West Chd,Chandigarh</td>\n",
       "      <td>NaN</td>\n",
       "      <td>NaN</td>\n",
       "      <td>NaN</td>\n",
       "      <td>NaN</td>\n",
       "      <td>https://www.swiggy.com/restaurants/food-under-...</td>\n",
       "      <td>NaN</td>\n",
       "      <td>Menu/308071.json</td>\n",
       "    </tr>\n",
       "    <tr>\n",
       "      <th>33046</th>\n",
       "      <td>308662</td>\n",
       "      <td>NaN</td>\n",
       "      <td>West Chd,Chandigarh</td>\n",
       "      <td>NaN</td>\n",
       "      <td>NaN</td>\n",
       "      <td>NaN</td>\n",
       "      <td>NaN</td>\n",
       "      <td>https://www.swiggy.com/restaurants/franks-frie...</td>\n",
       "      <td>NaN</td>\n",
       "      <td>Menu/308662.json</td>\n",
       "    </tr>\n",
       "    <tr>\n",
       "      <th>33488</th>\n",
       "      <td>170889</td>\n",
       "      <td>NaN</td>\n",
       "      <td>South Chd,Chandigarh</td>\n",
       "      <td>NaN</td>\n",
       "      <td>NaN</td>\n",
       "      <td>NaN</td>\n",
       "      <td>NaN</td>\n",
       "      <td>https://www.swiggy.com/restaurants/dhaba-7-pre...</td>\n",
       "      <td>NaN</td>\n",
       "      <td>Menu/170889.json</td>\n",
       "    </tr>\n",
       "    <tr>\n",
       "      <th>36492</th>\n",
       "      <td>390394</td>\n",
       "      <td>NaN</td>\n",
       "      <td>George Town,Chennai</td>\n",
       "      <td>NaN</td>\n",
       "      <td>NaN</td>\n",
       "      <td>NaN</td>\n",
       "      <td>NaN</td>\n",
       "      <td>https://www.swiggy.com/restaurants/frozen-cafe...</td>\n",
       "      <td>NaN</td>\n",
       "      <td>Menu/390394.json</td>\n",
       "    </tr>\n",
       "    <tr>\n",
       "      <th>...</th>\n",
       "      <td>...</td>\n",
       "      <td>...</td>\n",
       "      <td>...</td>\n",
       "      <td>...</td>\n",
       "      <td>...</td>\n",
       "      <td>...</td>\n",
       "      <td>...</td>\n",
       "      <td>...</td>\n",
       "      <td>...</td>\n",
       "      <td>...</td>\n",
       "    </tr>\n",
       "    <tr>\n",
       "      <th>137122</th>\n",
       "      <td>256827</td>\n",
       "      <td>NaN</td>\n",
       "      <td>Satara</td>\n",
       "      <td>NaN</td>\n",
       "      <td>NaN</td>\n",
       "      <td>NaN</td>\n",
       "      <td>NaN</td>\n",
       "      <td>https://www.swiggy.com/restaurants/rajdhani-pa...</td>\n",
       "      <td>NaN</td>\n",
       "      <td>Menu/256827.json</td>\n",
       "    </tr>\n",
       "    <tr>\n",
       "      <th>137546</th>\n",
       "      <td>567595</td>\n",
       "      <td>NaN</td>\n",
       "      <td>Shillong</td>\n",
       "      <td>NaN</td>\n",
       "      <td>NaN</td>\n",
       "      <td>NaN</td>\n",
       "      <td>NaN</td>\n",
       "      <td>https://www.swiggy.com/restaurants/the-blue-ri...</td>\n",
       "      <td>NaN</td>\n",
       "      <td>Menu/567595.json</td>\n",
       "    </tr>\n",
       "    <tr>\n",
       "      <th>137614</th>\n",
       "      <td>116615</td>\n",
       "      <td>NaN</td>\n",
       "      <td>Shivamogga</td>\n",
       "      <td>NaN</td>\n",
       "      <td>NaN</td>\n",
       "      <td>NaN</td>\n",
       "      <td>NaN</td>\n",
       "      <td>https://www.swiggy.com/restaurants/bakers-bowl...</td>\n",
       "      <td>NaN</td>\n",
       "      <td>Menu/116615.json</td>\n",
       "    </tr>\n",
       "    <tr>\n",
       "      <th>138380</th>\n",
       "      <td>401760</td>\n",
       "      <td>NaN</td>\n",
       "      <td>Sirsa</td>\n",
       "      <td>NaN</td>\n",
       "      <td>NaN</td>\n",
       "      <td>NaN</td>\n",
       "      <td>NaN</td>\n",
       "      <td>https://www.swiggy.com/restaurants/murga-dlf-p...</td>\n",
       "      <td>NaN</td>\n",
       "      <td>Menu/401760.json</td>\n",
       "    </tr>\n",
       "    <tr>\n",
       "      <th>141568</th>\n",
       "      <td>463812</td>\n",
       "      <td>NaN</td>\n",
       "      <td>Thiruvananthapuram</td>\n",
       "      <td>NaN</td>\n",
       "      <td>NaN</td>\n",
       "      <td>NaN</td>\n",
       "      <td>NaN</td>\n",
       "      <td>https://www.swiggy.com/restaurants/punjabi-dha...</td>\n",
       "      <td>NaN</td>\n",
       "      <td>Menu/463812.json</td>\n",
       "    </tr>\n",
       "  </tbody>\n",
       "</table>\n",
       "<p>86 rows × 10 columns</p>\n",
       "</div>"
      ],
      "text/plain": [
       "            id name                       city  rating  rating_count  cost  \\\n",
       "31044   397961  NaN  Greater Mohali,Chandigarh     NaN           NaN   NaN   \n",
       "32912   308071  NaN        West Chd,Chandigarh     NaN           NaN   NaN   \n",
       "33046   308662  NaN        West Chd,Chandigarh     NaN           NaN   NaN   \n",
       "33488   170889  NaN       South Chd,Chandigarh     NaN           NaN   NaN   \n",
       "36492   390394  NaN        George Town,Chennai     NaN           NaN   NaN   \n",
       "...        ...  ...                        ...     ...           ...   ...   \n",
       "137122  256827  NaN                     Satara     NaN           NaN   NaN   \n",
       "137546  567595  NaN                   Shillong     NaN           NaN   NaN   \n",
       "137614  116615  NaN                 Shivamogga     NaN           NaN   NaN   \n",
       "138380  401760  NaN                      Sirsa     NaN           NaN   NaN   \n",
       "141568  463812  NaN         Thiruvananthapuram     NaN           NaN   NaN   \n",
       "\n",
       "       cuisine                                               link address  \\\n",
       "31044      NaN  https://www.swiggy.com/restaurants/5-tara-grea...     NaN   \n",
       "32912      NaN  https://www.swiggy.com/restaurants/food-under-...     NaN   \n",
       "33046      NaN  https://www.swiggy.com/restaurants/franks-frie...     NaN   \n",
       "33488      NaN  https://www.swiggy.com/restaurants/dhaba-7-pre...     NaN   \n",
       "36492      NaN  https://www.swiggy.com/restaurants/frozen-cafe...     NaN   \n",
       "...        ...                                                ...     ...   \n",
       "137122     NaN  https://www.swiggy.com/restaurants/rajdhani-pa...     NaN   \n",
       "137546     NaN  https://www.swiggy.com/restaurants/the-blue-ri...     NaN   \n",
       "137614     NaN  https://www.swiggy.com/restaurants/bakers-bowl...     NaN   \n",
       "138380     NaN  https://www.swiggy.com/restaurants/murga-dlf-p...     NaN   \n",
       "141568     NaN  https://www.swiggy.com/restaurants/punjabi-dha...     NaN   \n",
       "\n",
       "                    menu  \n",
       "31044   Menu/397961.json  \n",
       "32912   Menu/308071.json  \n",
       "33046   Menu/308662.json  \n",
       "33488   Menu/170889.json  \n",
       "36492   Menu/390394.json  \n",
       "...                  ...  \n",
       "137122  Menu/256827.json  \n",
       "137546  Menu/567595.json  \n",
       "137614  Menu/116615.json  \n",
       "138380  Menu/401760.json  \n",
       "141568  Menu/463812.json  \n",
       "\n",
       "[86 rows x 10 columns]"
      ]
     },
     "execution_count": 22,
     "metadata": {},
     "output_type": "execute_result"
    }
   ],
   "source": [
    "# # To check what are null values in name cloumn\n",
    "data[data[\"name\"].isnull()]\n"
   ]
  },
  {
   "cell_type": "code",
   "execution_count": 23,
   "id": "0355e64c",
   "metadata": {},
   "outputs": [
    {
     "data": {
      "text/html": [
       "<div>\n",
       "<style scoped>\n",
       "    .dataframe tbody tr th:only-of-type {\n",
       "        vertical-align: middle;\n",
       "    }\n",
       "\n",
       "    .dataframe tbody tr th {\n",
       "        vertical-align: top;\n",
       "    }\n",
       "\n",
       "    .dataframe thead th {\n",
       "        text-align: right;\n",
       "    }\n",
       "</style>\n",
       "<table border=\"1\" class=\"dataframe\">\n",
       "  <thead>\n",
       "    <tr style=\"text-align: right;\">\n",
       "      <th></th>\n",
       "      <th>id</th>\n",
       "      <th>name</th>\n",
       "      <th>city</th>\n",
       "      <th>rating</th>\n",
       "      <th>rating_count</th>\n",
       "      <th>cost</th>\n",
       "      <th>cuisine</th>\n",
       "      <th>link</th>\n",
       "      <th>address</th>\n",
       "      <th>menu</th>\n",
       "    </tr>\n",
       "  </thead>\n",
       "  <tbody>\n",
       "    <tr>\n",
       "      <th>31044</th>\n",
       "      <td>397961</td>\n",
       "      <td>NaN</td>\n",
       "      <td>Greater Mohali,Chandigarh</td>\n",
       "      <td>NaN</td>\n",
       "      <td>NaN</td>\n",
       "      <td>NaN</td>\n",
       "      <td>NaN</td>\n",
       "      <td>https://www.swiggy.com/restaurants/5-tara-grea...</td>\n",
       "      <td>NaN</td>\n",
       "      <td>Menu/397961.json</td>\n",
       "    </tr>\n",
       "    <tr>\n",
       "      <th>32912</th>\n",
       "      <td>308071</td>\n",
       "      <td>NaN</td>\n",
       "      <td>West Chd,Chandigarh</td>\n",
       "      <td>NaN</td>\n",
       "      <td>NaN</td>\n",
       "      <td>NaN</td>\n",
       "      <td>NaN</td>\n",
       "      <td>https://www.swiggy.com/restaurants/food-under-...</td>\n",
       "      <td>NaN</td>\n",
       "      <td>Menu/308071.json</td>\n",
       "    </tr>\n",
       "    <tr>\n",
       "      <th>33046</th>\n",
       "      <td>308662</td>\n",
       "      <td>NaN</td>\n",
       "      <td>West Chd,Chandigarh</td>\n",
       "      <td>NaN</td>\n",
       "      <td>NaN</td>\n",
       "      <td>NaN</td>\n",
       "      <td>NaN</td>\n",
       "      <td>https://www.swiggy.com/restaurants/franks-frie...</td>\n",
       "      <td>NaN</td>\n",
       "      <td>Menu/308662.json</td>\n",
       "    </tr>\n",
       "    <tr>\n",
       "      <th>33488</th>\n",
       "      <td>170889</td>\n",
       "      <td>NaN</td>\n",
       "      <td>South Chd,Chandigarh</td>\n",
       "      <td>NaN</td>\n",
       "      <td>NaN</td>\n",
       "      <td>NaN</td>\n",
       "      <td>NaN</td>\n",
       "      <td>https://www.swiggy.com/restaurants/dhaba-7-pre...</td>\n",
       "      <td>NaN</td>\n",
       "      <td>Menu/170889.json</td>\n",
       "    </tr>\n",
       "    <tr>\n",
       "      <th>36492</th>\n",
       "      <td>390394</td>\n",
       "      <td>NaN</td>\n",
       "      <td>George Town,Chennai</td>\n",
       "      <td>NaN</td>\n",
       "      <td>NaN</td>\n",
       "      <td>NaN</td>\n",
       "      <td>NaN</td>\n",
       "      <td>https://www.swiggy.com/restaurants/frozen-cafe...</td>\n",
       "      <td>NaN</td>\n",
       "      <td>Menu/390394.json</td>\n",
       "    </tr>\n",
       "    <tr>\n",
       "      <th>...</th>\n",
       "      <td>...</td>\n",
       "      <td>...</td>\n",
       "      <td>...</td>\n",
       "      <td>...</td>\n",
       "      <td>...</td>\n",
       "      <td>...</td>\n",
       "      <td>...</td>\n",
       "      <td>...</td>\n",
       "      <td>...</td>\n",
       "      <td>...</td>\n",
       "    </tr>\n",
       "    <tr>\n",
       "      <th>137122</th>\n",
       "      <td>256827</td>\n",
       "      <td>NaN</td>\n",
       "      <td>Satara</td>\n",
       "      <td>NaN</td>\n",
       "      <td>NaN</td>\n",
       "      <td>NaN</td>\n",
       "      <td>NaN</td>\n",
       "      <td>https://www.swiggy.com/restaurants/rajdhani-pa...</td>\n",
       "      <td>NaN</td>\n",
       "      <td>Menu/256827.json</td>\n",
       "    </tr>\n",
       "    <tr>\n",
       "      <th>137546</th>\n",
       "      <td>567595</td>\n",
       "      <td>NaN</td>\n",
       "      <td>Shillong</td>\n",
       "      <td>NaN</td>\n",
       "      <td>NaN</td>\n",
       "      <td>NaN</td>\n",
       "      <td>NaN</td>\n",
       "      <td>https://www.swiggy.com/restaurants/the-blue-ri...</td>\n",
       "      <td>NaN</td>\n",
       "      <td>Menu/567595.json</td>\n",
       "    </tr>\n",
       "    <tr>\n",
       "      <th>137614</th>\n",
       "      <td>116615</td>\n",
       "      <td>NaN</td>\n",
       "      <td>Shivamogga</td>\n",
       "      <td>NaN</td>\n",
       "      <td>NaN</td>\n",
       "      <td>NaN</td>\n",
       "      <td>NaN</td>\n",
       "      <td>https://www.swiggy.com/restaurants/bakers-bowl...</td>\n",
       "      <td>NaN</td>\n",
       "      <td>Menu/116615.json</td>\n",
       "    </tr>\n",
       "    <tr>\n",
       "      <th>138380</th>\n",
       "      <td>401760</td>\n",
       "      <td>NaN</td>\n",
       "      <td>Sirsa</td>\n",
       "      <td>NaN</td>\n",
       "      <td>NaN</td>\n",
       "      <td>NaN</td>\n",
       "      <td>NaN</td>\n",
       "      <td>https://www.swiggy.com/restaurants/murga-dlf-p...</td>\n",
       "      <td>NaN</td>\n",
       "      <td>Menu/401760.json</td>\n",
       "    </tr>\n",
       "    <tr>\n",
       "      <th>141568</th>\n",
       "      <td>463812</td>\n",
       "      <td>NaN</td>\n",
       "      <td>Thiruvananthapuram</td>\n",
       "      <td>NaN</td>\n",
       "      <td>NaN</td>\n",
       "      <td>NaN</td>\n",
       "      <td>NaN</td>\n",
       "      <td>https://www.swiggy.com/restaurants/punjabi-dha...</td>\n",
       "      <td>NaN</td>\n",
       "      <td>Menu/463812.json</td>\n",
       "    </tr>\n",
       "  </tbody>\n",
       "</table>\n",
       "<p>86 rows × 10 columns</p>\n",
       "</div>"
      ],
      "text/plain": [
       "            id name                       city  rating  rating_count  cost  \\\n",
       "31044   397961  NaN  Greater Mohali,Chandigarh     NaN           NaN   NaN   \n",
       "32912   308071  NaN        West Chd,Chandigarh     NaN           NaN   NaN   \n",
       "33046   308662  NaN        West Chd,Chandigarh     NaN           NaN   NaN   \n",
       "33488   170889  NaN       South Chd,Chandigarh     NaN           NaN   NaN   \n",
       "36492   390394  NaN        George Town,Chennai     NaN           NaN   NaN   \n",
       "...        ...  ...                        ...     ...           ...   ...   \n",
       "137122  256827  NaN                     Satara     NaN           NaN   NaN   \n",
       "137546  567595  NaN                   Shillong     NaN           NaN   NaN   \n",
       "137614  116615  NaN                 Shivamogga     NaN           NaN   NaN   \n",
       "138380  401760  NaN                      Sirsa     NaN           NaN   NaN   \n",
       "141568  463812  NaN         Thiruvananthapuram     NaN           NaN   NaN   \n",
       "\n",
       "       cuisine                                               link address  \\\n",
       "31044      NaN  https://www.swiggy.com/restaurants/5-tara-grea...     NaN   \n",
       "32912      NaN  https://www.swiggy.com/restaurants/food-under-...     NaN   \n",
       "33046      NaN  https://www.swiggy.com/restaurants/franks-frie...     NaN   \n",
       "33488      NaN  https://www.swiggy.com/restaurants/dhaba-7-pre...     NaN   \n",
       "36492      NaN  https://www.swiggy.com/restaurants/frozen-cafe...     NaN   \n",
       "...        ...                                                ...     ...   \n",
       "137122     NaN  https://www.swiggy.com/restaurants/rajdhani-pa...     NaN   \n",
       "137546     NaN  https://www.swiggy.com/restaurants/the-blue-ri...     NaN   \n",
       "137614     NaN  https://www.swiggy.com/restaurants/bakers-bowl...     NaN   \n",
       "138380     NaN  https://www.swiggy.com/restaurants/murga-dlf-p...     NaN   \n",
       "141568     NaN  https://www.swiggy.com/restaurants/punjabi-dha...     NaN   \n",
       "\n",
       "                    menu  \n",
       "31044   Menu/397961.json  \n",
       "32912   Menu/308071.json  \n",
       "33046   Menu/308662.json  \n",
       "33488   Menu/170889.json  \n",
       "36492   Menu/390394.json  \n",
       "...                  ...  \n",
       "137122  Menu/256827.json  \n",
       "137546  Menu/567595.json  \n",
       "137614  Menu/116615.json  \n",
       "138380  Menu/401760.json  \n",
       "141568  Menu/463812.json  \n",
       "\n",
       "[86 rows x 10 columns]"
      ]
     },
     "execution_count": 23,
     "metadata": {},
     "output_type": "execute_result"
    }
   ],
   "source": [
    "## To check what are null values in rating_count cloumn\n",
    "data[data[\"rating_count\"].isnull()]"
   ]
  },
  {
   "cell_type": "markdown",
   "id": "617d3a1c",
   "metadata": {},
   "source": [
    "IN THIS PROCESS NAME, RATING, RATING_COUNT,ADDRESS HAS SAME NUMBER OF NAN VALUES"
   ]
  },
  {
   "cell_type": "markdown",
   "id": "ccc7157c",
   "metadata": {},
   "source": [
    "NEED TO CHECK ANY RELATIONSHIP BETWEEN THESE COLUMNS"
   ]
  },
  {
   "cell_type": "code",
   "execution_count": 24,
   "id": "877b10cb",
   "metadata": {},
   "outputs": [
    {
     "name": "stdout",
     "output_type": "stream",
     "text": [
      "Rows where all 4 columns are null: 86\n"
     ]
    }
   ],
   "source": [
    "# First, check which rows have nulls in those 4 columns\n",
    "null_rows = data[data[['name', 'rating', 'rating_count', 'address']].isnull().all(axis=1)]\n",
    "\n",
    "# Count how many such rows there are\n",
    "print(f\"Rows where all 4 columns are null: {len(null_rows)}\")\n"
   ]
  },
  {
   "cell_type": "code",
   "execution_count": 25,
   "id": "fd9537fc",
   "metadata": {},
   "outputs": [
    {
     "name": "stdout",
     "output_type": "stream",
     "text": [
      "city\n",
      "Kurukshetra            8\n",
      "Jadavpur,Kolkata       4\n",
      "Ichalkaranji           3\n",
      "Gomti Nagar,Lucknow    3\n",
      "Rohtak                 3\n",
      "                      ..\n",
      "Satara                 1\n",
      "Shillong               1\n",
      "Shivamogga             1\n",
      "Sirsa                  1\n",
      "Thiruvananthapuram     1\n",
      "Name: count, Length: 61, dtype: int64\n",
      "86\n"
     ]
    }
   ],
   "source": [
    "# See if these rows belong to a specific city\n",
    "print(null_rows['city'].value_counts())\n",
    "\n",
    "# Or maybe the 'cost' is also null in these rows?\n",
    "print(null_rows['cost'].isnull().sum())\n"
   ]
  },
  {
   "cell_type": "markdown",
   "id": "1ff77292",
   "metadata": {},
   "source": [
    "The missing values aren't tied to a specific city — so this is not a location-based issue.\n",
    "\n"
   ]
  },
  {
   "cell_type": "code",
   "execution_count": 26,
   "id": "71f8b8eb",
   "metadata": {},
   "outputs": [
    {
     "name": "stdout",
     "output_type": "stream",
     "text": [
      "86\n"
     ]
    }
   ],
   "source": [
    "df_check = data[['name', 'rating', 'rating_count', 'address']]\n",
    "print((df_check.isnull().sum(axis=1) == 4).sum())\n"
   ]
  },
  {
   "cell_type": "markdown",
   "id": "0c38cfcc",
   "metadata": {},
   "source": [
    "There is a clear relationship between these four columns in those rows—they always go missing together, and it's not due to city or cost. Most likely:\n",
    "\n",
    "These rows are incomplete records (e.g., broken entries during scraping).\n",
    "\n",
    "Could be restaurants that didn’t load fully or were placeholder entries.\n",
    "\n"
   ]
  },
  {
   "cell_type": "markdown",
   "id": "9bfc0eee",
   "metadata": {},
   "source": [
    "dropping the missing rows"
   ]
  },
  {
   "cell_type": "code",
   "execution_count": 27,
   "id": "7a181fc7",
   "metadata": {},
   "outputs": [],
   "source": [
    "data = data[~data[['name', 'rating', 'rating_count', 'address']].isnull().all(axis=1)]\n"
   ]
  },
  {
   "cell_type": "code",
   "execution_count": 28,
   "id": "af9ace2d",
   "metadata": {},
   "outputs": [
    {
     "data": {
      "text/plain": [
       "id               0\n",
       "name             0\n",
       "city             0\n",
       "rating           0\n",
       "rating_count     0\n",
       "cost            45\n",
       "cuisine         13\n",
       "link             0\n",
       "address          0\n",
       "menu             0\n",
       "dtype: int64"
      ]
     },
     "execution_count": 28,
     "metadata": {},
     "output_type": "execute_result"
    }
   ],
   "source": [
    "data.isnull().sum()"
   ]
  },
  {
   "cell_type": "markdown",
   "id": "7ddc0796",
   "metadata": {},
   "source": [
    "**COST, CUISINE HAS SOME NULL VALUES**"
   ]
  },
  {
   "cell_type": "markdown",
   "id": "53874047",
   "metadata": {},
   "source": [
    "**IMPUTING THE NULL VALUES COLUM**"
   ]
  },
  {
   "cell_type": "code",
   "execution_count": 29,
   "id": "92e10956",
   "metadata": {},
   "outputs": [],
   "source": [
    "data['cost'] = data['cost'].fillna(data['cost'].median())\n"
   ]
  },
  {
   "cell_type": "code",
   "execution_count": 30,
   "id": "838acb97",
   "metadata": {},
   "outputs": [
    {
     "name": "stderr",
     "output_type": "stream",
     "text": [
      "C:\\Users\\dell\\AppData\\Local\\Temp\\ipykernel_21856\\3174056783.py:11: DeprecationWarning: DataFrameGroupBy.apply operated on the grouping columns. This behavior is deprecated, and in a future version of pandas the grouping columns will be excluded from the operation. Either pass `include_groups=False` to exclude the groupings or explicitly select the grouping columns after groupby to silence this warning.\n",
      "  data = data.groupby('city').apply(fill_most_frequent_cuisine).reset_index(drop=True)\n"
     ]
    }
   ],
   "source": [
    "# Function to get the most common cuisine for a city\n",
    "def fill_most_frequent_cuisine(group):\n",
    "    mode = group['cuisine'].mode()\n",
    "    if not mode.empty:\n",
    "        group['cuisine'] = group['cuisine'].fillna(mode[0])\n",
    "    else:\n",
    "        group['cuisine'] = group['cuisine'].fillna('Unknown')  # fallback if no mode\n",
    "    return group\n",
    "\n",
    "# Apply it group by city\n",
    "data = data.groupby('city').apply(fill_most_frequent_cuisine).reset_index(drop=True)\n"
   ]
  },
  {
   "cell_type": "code",
   "execution_count": 31,
   "id": "4b86e2a3",
   "metadata": {},
   "outputs": [
    {
     "data": {
      "text/plain": [
       "id              0\n",
       "name            0\n",
       "city            0\n",
       "rating          0\n",
       "rating_count    0\n",
       "cost            0\n",
       "cuisine         0\n",
       "link            0\n",
       "address         0\n",
       "menu            0\n",
       "dtype: int64"
      ]
     },
     "execution_count": 31,
     "metadata": {},
     "output_type": "execute_result"
    }
   ],
   "source": [
    " data.isnull().sum()"
   ]
  },
  {
   "cell_type": "code",
   "execution_count": 32,
   "id": "e4a65e2b",
   "metadata": {},
   "outputs": [
    {
     "data": {
      "text/plain": [
       "(148455, 10)"
      ]
     },
     "execution_count": 32,
     "metadata": {},
     "output_type": "execute_result"
    }
   ],
   "source": [
    "data.shape"
   ]
  },
  {
   "cell_type": "markdown",
   "id": "3e4a0673",
   "metadata": {},
   "source": [
    "before cleaning process the shape of the data is (148541, 11) , now (148455, 10) , we have lost 86 rows and 1 cloumn\n"
   ]
  },
  {
   "cell_type": "code",
   "execution_count": 33,
   "id": "54663951",
   "metadata": {},
   "outputs": [],
   "source": [
    "#To convert into csv file\n",
    "data.to_csv(\"cleaned_data.csv\", index=False)"
   ]
  },
  {
   "cell_type": "markdown",
   "id": "78bb5e2b",
   "metadata": {},
   "source": [
    "# 2. Data Preprocessing"
   ]
  },
  {
   "cell_type": "code",
   "execution_count": 34,
   "id": "2b2da3fc",
   "metadata": {},
   "outputs": [
    {
     "name": "stdout",
     "output_type": "stream",
     "text": [
      "129970                   T Nagar,Chennai\n",
      "75346                       Kothrud,Pune\n",
      "145417              Whitefield,Bangalore\n",
      "3845                     Aliganj,Lucknow\n",
      "97220              Navrangpura,Ahmedabad\n",
      "139052                      Vashi,Mumbai\n",
      "105279              Panchkula,Chandigarh\n",
      "130578                  Tambaram,Chennai\n",
      "17029                           Bareilly\n",
      "65460                 Kadugodi,Bangalore\n",
      "67314                        Kanchrapara\n",
      "108783                       Pondicherry\n",
      "79270                          Lakhimpur\n",
      "107240                  Perambur,Chennai\n",
      "60164             Iyyapanthangal,Chennai\n",
      "105971                             Patna\n",
      "144325                        Wakad,Pune\n",
      "119042                      Sadar,Nagpur\n",
      "138442                      Vashi,Mumbai\n",
      "38845          Electronic City,Bangalore\n",
      "113942                  Rajarhat,Kolkata\n",
      "88910                    Maunath-bhanjan\n",
      "129601                     Swargate,Pune\n",
      "141773                  Viman Nagar,Pune\n",
      "124468                Shivaji Nagar,Pune\n",
      "105109            Panampilly Nagar,Kochi\n",
      "84166      Mahalaxmi Malabar Hill,Mumbai\n",
      "52270                      HSR,Bangalore\n",
      "60710                           Jabalpur\n",
      "49264            Greater Kailash 2,Delhi\n",
      "119494                             Sagar\n",
      "107929              Pimple Saudagar,Pune\n",
      "112037                            Raipur\n",
      "39709          Electronic City,Bangalore\n",
      "50973                     Guindy,Chennai\n",
      "76318                          Kozhikode\n",
      "113487    Rajarajeshwari Nagar,Bangalore\n",
      "40105                  Esplanade,Kolkata\n",
      "18249                       Bavdhan,Pune\n",
      "10570                         Aundh,Pune\n",
      "53051                      Hadapsar,Pune\n",
      "108371                      Piplod,Surat\n",
      "4425                     Alipore,Kolkata\n",
      "82888                            Madurai\n",
      "51596                            Gwalior\n",
      "12992                        Bahadurgarh\n",
      "111199              R.T. Nagar,Bangalore\n",
      "132016                        Thodupuzha\n",
      "78928                  Lake Town,Kolkata\n",
      "65381                 Kadugodi,Bangalore\n",
      "Name: city, dtype: object\n"
     ]
    }
   ],
   "source": [
    "print(data['city'].sample(50))  # or just use head() if you want the first few rows\n"
   ]
  },
  {
   "cell_type": "markdown",
   "id": "c4d30fc8",
   "metadata": {},
   "source": [
    "It looks like your city column has a mix of city names and some regions or specific areas (e.g., Ramapuram, Chennai, Piplod, Surat, Kadubeesanahalli, Bangalore). There might also be inconsistent formatting, like commas separating the area and city name.\n",
    "\n"
   ]
  },
  {
   "cell_type": "code",
   "execution_count": 35,
   "id": "fbde4d9d",
   "metadata": {},
   "outputs": [],
   "source": [
    "# Split into two columns: 'area' and 'city'\n",
    "data[['area', 'city']] = data['city'].str.split(',', n=1, expand=True)\n",
    "\n",
    "# Clean up whitespace\n",
    "data['area'] = data['area'].str.strip().fillna('Unknown').str.lower()\n",
    "data['city'] = data['city'].str.strip().fillna('Unknown').str.lower()\n"
   ]
  },
  {
   "cell_type": "code",
   "execution_count": 36,
   "id": "e699284a",
   "metadata": {},
   "outputs": [],
   "source": [
    "# Split the 'cuisine' string into a list and strip spaces from each item\n",
    "data['cuisine'] = data['cuisine'].str.split(',').apply(lambda x: [i.strip() for i in x])\n"
   ]
  },
  {
   "cell_type": "code",
   "execution_count": 37,
   "id": "7712ba11",
   "metadata": {},
   "outputs": [
    {
     "data": {
      "text/plain": [
       "Index(['id', 'name', 'city', 'rating', 'rating_count', 'cost', 'cuisine',\n",
       "       'link', 'address', 'menu', 'area'],\n",
       "      dtype='object')"
      ]
     },
     "execution_count": 37,
     "metadata": {},
     "output_type": "execute_result"
    }
   ],
   "source": [
    "data.columns\n"
   ]
  },
  {
   "cell_type": "code",
   "execution_count": 38,
   "id": "9e105a10",
   "metadata": {},
   "outputs": [
    {
     "data": {
      "text/plain": [
       "id                int64\n",
       "name             object\n",
       "city             object\n",
       "rating          float64\n",
       "rating_count    float64\n",
       "cost            float64\n",
       "cuisine          object\n",
       "link             object\n",
       "address          object\n",
       "menu             object\n",
       "area             object\n",
       "dtype: object"
      ]
     },
     "execution_count": 38,
     "metadata": {},
     "output_type": "execute_result"
    }
   ],
   "source": [
    "data.dtypes"
   ]
  },
  {
   "cell_type": "code",
   "execution_count": 39,
   "id": "4e782d77",
   "metadata": {},
   "outputs": [
    {
     "name": "stdout",
     "output_type": "stream",
     "text": [
      "['id', 'name', 'city', 'rating', 'rating_count', 'cost', 'cuisine', 'link', 'address', 'menu', 'area']\n"
     ]
    }
   ],
   "source": [
    "print(data.columns.tolist())\n"
   ]
  },
  {
   "cell_type": "markdown",
   "id": "d06bb014",
   "metadata": {},
   "source": [
    "# encoding the categorical data"
   ]
  },
  {
   "cell_type": "markdown",
   "id": "da4f5bab",
   "metadata": {},
   "source": [
    "city -----\tOne-Hot Encoder\t ----  Limited categories, good for distance-based models like K-Means"
   ]
  },
  {
   "cell_type": "markdown",
   "id": "d2888d0a",
   "metadata": {},
   "source": [
    "name -----\tLabel Encoder -----\tEach restaurant is unique, so one-hot would explode; label encoding preserves IDs"
   ]
  },
  {
   "cell_type": "markdown",
   "id": "10a83ce3",
   "metadata": {},
   "source": [
    "cuisine -----\tMultiLabel Binarizer -----\tMany entries contain multiple cuisines, separated by commas — so treat it like a multi-label field"
   ]
  },
  {
   "cell_type": "code",
   "execution_count": 40,
   "id": "6f715e2f",
   "metadata": {},
   "outputs": [
    {
     "name": "stdout",
     "output_type": "stream",
     "text": [
      "✅ Encoded data saved to 'encoded_data.csv'.\n",
      "✅ Encoders saved.\n"
     ]
    }
   ],
   "source": [
    "import pandas as pd\n",
    "from sklearn.preprocessing import OneHotEncoder, LabelEncoder, MultiLabelBinarizer\n",
    "import pickle\n",
    "\n",
    "# Load your cleaned data\n",
    "data = pd.read_csv('cleaned_data.csv')\n",
    "\n",
    "# ---------------------- Preprocessing ----------------------\n",
    "\n",
    "# Ensure 'cuisine' is a list for each row\n",
    "data['cuisine'] = data['cuisine'].apply(lambda x: [i.strip() for i in x.split(',')] if isinstance(x, str) else [])\n",
    "\n",
    "\n",
    "# Label encode restaurant names\n",
    "name_encoder = LabelEncoder()\n",
    "data['name_encoded'] = name_encoder.fit_transform(data['name'])\n",
    "data['name_encoded'] = data['name_encoded'].astype('int32')\n",
    "\n",
    "# One-hot encode city\n",
    "city_encoder = OneHotEncoder(handle_unknown='ignore', sparse_output=False)\n",
    "city_encoded = city_encoder.fit_transform(data[['city']])\n",
    "city_encoded_df = pd.DataFrame(city_encoded, columns=city_encoder.get_feature_names_out(['city']))\n",
    "city_encoded_df = city_encoded_df.astype('uint8')  # memory optimization\n",
    "\n",
    "# Multi-label binarizer for cuisine\n",
    "mlb = MultiLabelBinarizer()\n",
    "cuisine_encoded = mlb.fit_transform(data['cuisine'])\n",
    "cuisine_encoded_df = pd.DataFrame(cuisine_encoded, columns=mlb.classes_)\n",
    "cuisine_encoded_df = cuisine_encoded_df.astype('uint8')  # memory optimization\n",
    "\n",
    "# ---------------------- Combine All Encoded Features ----------------------\n",
    "\n",
    "final_features = pd.concat([\n",
    "    data[['name_encoded']].reset_index(drop=True),\n",
    "    city_encoded_df.reset_index(drop=True),\n",
    "    cuisine_encoded_df.reset_index(drop=True)\n",
    "], axis=1)\n",
    "\n",
    "# ---------------------- Save Encoded Data ----------------------\n",
    "\n",
    "final_features.to_csv('encoded_data.csv', index=False)\n",
    "print(\"✅ Encoded data saved to 'encoded_data.csv'.\")\n",
    "\n",
    "# Save encoders for inference\n",
    "pickle.dump(name_encoder, open('name_encoder.pkl', 'wb'))\n",
    "pickle.dump(city_encoder, open('city_encoder.pkl', 'wb'))\n",
    "pickle.dump(mlb, open('cuisine_encoder.pkl', 'wb'))\n",
    "\n",
    "print(\"✅ Encoders saved.\")\n"
   ]
  },
  {
   "cell_type": "code",
   "execution_count": 41,
   "id": "913f8bbe",
   "metadata": {},
   "outputs": [
    {
     "name": "stdout",
     "output_type": "stream",
     "text": [
      "✅ KMeans and Scaler saved successfully!\n"
     ]
    }
   ],
   "source": [
    "# --- Scale data ---\n",
    "scaler = StandardScaler()\n",
    "scaled_data = scaler.fit_transform(final_features)\n",
    "\n",
    "\n",
    "# --- Apply PCA ---\n",
    "pca= PCA(n_components=30)  # You can increase/decrease depending on variance explained\n",
    "pca_data = pca.fit_transform(scaled_data)\n",
    "\n",
    "# --- Train KMeans ---\n",
    "kmeans = KMeans(n_clusters=10, random_state=42,n_init=10)  # you can tune n_clusters\n",
    "kmeans.fit(pca_data)\n",
    "\n",
    "# --- Save PCA-transformed data ---\n",
    "pd.DataFrame(pca_data).to_csv(\"pca_encoded_data.csv\", index=False)\n",
    "\n",
    "# --- Save PCA model ---\n",
    "with open(\"pca_model.pkl\", \"wb\") as f:\n",
    "    pickle.dump(pca, f)\n",
    "\n",
    "# --- Save models ---\n",
    "with open(\"kmeans_model.pkl\", \"wb\") as f:\n",
    "    pickle.dump(kmeans, f)\n",
    "\n",
    "with open(\"scaler.pkl\", \"wb\") as f:\n",
    "    pickle.dump(scaler, f)\n",
    "\n",
    "print(\"✅ KMeans and Scaler saved successfully!\")"
   ]
  },
  {
   "cell_type": "code",
   "execution_count": 42,
   "id": "138ddec4",
   "metadata": {},
   "outputs": [],
   "source": [
    "cluster_labels = kmeans.predict(pca_data)\n",
    "data['cluster'] = cluster_labels\n"
   ]
  },
  {
   "cell_type": "code",
   "execution_count": 43,
   "id": "f55b6979",
   "metadata": {},
   "outputs": [],
   "source": [
    "# ✅ Save input column order for matching later\n",
    "with open(\"pca_input_columns.pkl\", \"wb\") as f:\n",
    "    pickle.dump(final_features.columns.tolist(), f)"
   ]
  }
 ],
 "metadata": {
  "kernelspec": {
   "display_name": "Python 3",
   "language": "python",
   "name": "python3"
  },
  "language_info": {
   "codemirror_mode": {
    "name": "ipython",
    "version": 3
   },
   "file_extension": ".py",
   "mimetype": "text/x-python",
   "name": "python",
   "nbconvert_exporter": "python",
   "pygments_lexer": "ipython3",
   "version": "3.12.8"
  }
 },
 "nbformat": 4,
 "nbformat_minor": 5
}
